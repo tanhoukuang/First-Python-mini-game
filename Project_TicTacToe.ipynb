{
  "nbformat": 4,
  "nbformat_minor": 0,
  "metadata": {
    "colab": {
      "name": "Project TicTacToe.ipynb",
      "provenance": [],
      "collapsed_sections": [],
      "authorship_tag": "ABX9TyNLp53CmSi04EykX+08xSnC",
      "include_colab_link": true
    },
    "kernelspec": {
      "name": "python3",
      "display_name": "Python 3"
    },
    "language_info": {
      "name": "python"
    }
  },
  "cells": [
    {
      "cell_type": "markdown",
      "metadata": {
        "id": "view-in-github",
        "colab_type": "text"
      },
      "source": [
        "<a href=\"https://colab.research.google.com/github/tanhoukuang/First-Python-mini-game/blob/main/Project_TicTacToe.ipynb\" target=\"_parent\"><img src=\"https://colab.research.google.com/assets/colab-badge.svg\" alt=\"Open In Colab\"/></a>"
      ]
    },
    {
      "cell_type": "markdown",
      "metadata": {
        "id": "AD8O0cZQT_yd"
      },
      "source": [
        "Project Tic TAc Toe Game        \n",
        "Step1 : Write a function that can print out the board"
      ]
    },
    {
      "cell_type": "code",
      "metadata": {
        "id": "2ZTIQwOHTxE_"
      },
      "source": [
        "from IPython.display import clear_output\n",
        "def display_board(board): \n",
        "  clear_output()                   \n",
        "  print(' '+'  | '+'  |')\n",
        "  print(' '+ board[7]+' | '+board[8]+' | '+board[9])\n",
        "  print(' '+'  | '+'  |')\n",
        "  print('----------')\n",
        "  print(' '+'  | '+'  |')\n",
        "  print(' '+ board[4]+' | '+board[5]+' | '+board[6])\n",
        "  print(' '+'  | '+'  |')\n",
        "  print('----------')\n",
        "  print(' '+'  | '+'  |')\n",
        "  print(' '+ board[1]+' | '+board[2]+' | '+board[3])\n",
        "  print(' '+'  | '+'  |')"
      ],
      "execution_count": 57,
      "outputs": []
    },
    {
      "cell_type": "code",
      "metadata": {
        "colab": {
          "base_uri": "https://localhost:8080/"
        },
        "id": "TsC03kQWT4xX",
        "outputId": "283b40a2-89b0-4988-b23d-1b5f1132e361"
      },
      "source": [
        "test_board = ['#','X','O','X','O','X','O','X','O','X']    \n",
        "display_board(test_board)"
      ],
      "execution_count": 58,
      "outputs": [
        {
          "output_type": "stream",
          "name": "stdout",
          "text": [
            "   |   |\n",
            " X | O | X\n",
            "   |   |\n",
            "----------\n",
            "   |   |\n",
            " O | X | O\n",
            "   |   |\n",
            "----------\n",
            "   |   |\n",
            " X | O | X\n",
            "   |   |\n"
          ]
        }
      ]
    },
    {
      "cell_type": "markdown",
      "metadata": {
        "id": "puHQkPsKUPMS"
      },
      "source": [
        "Step 2\n",
        "- Write a function that can take in player input and assign their markers as X or O"
      ]
    },
    {
      "cell_type": "code",
      "metadata": {
        "id": "J_sBX2J1T8O4"
      },
      "source": [
        "def player_input():\n",
        "  marker = ''  # Empty\n",
        "                                   \n",
        "  while not (marker =='X' or marker == 'O'):   \n",
        "    marker = input('Player 1: DO you Want to Be X or O ?').upper()  \n",
        "\n",
        "  if marker =='X':\n",
        "    return('X','O')               \n",
        "\n",
        "  if marker =='O':\n",
        "    return('O','X')"
      ],
      "execution_count": 59,
      "outputs": []
    },
    {
      "cell_type": "code",
      "metadata": {
        "colab": {
          "base_uri": "https://localhost:8080/"
        },
        "id": "iytVLAwYT4u5",
        "outputId": "e7a157c0-ecc9-4777-e072-9bdcda818203"
      },
      "source": [
        "player_input()"
      ],
      "execution_count": 60,
      "outputs": [
        {
          "name": "stdout",
          "output_type": "stream",
          "text": [
            "Player 1: DO you Want to Be X or O ?x\n"
          ]
        },
        {
          "output_type": "execute_result",
          "data": {
            "text/plain": [
              "('X', 'O')"
            ]
          },
          "metadata": {},
          "execution_count": 60
        }
      ]
    },
    {
      "cell_type": "markdown",
      "metadata": {
        "id": "xcqRgjsJUog3"
      },
      "source": [
        "Write a function take in the marker to a desired position and assign in on board"
      ]
    },
    {
      "cell_type": "code",
      "metadata": {
        "id": "9gVqQPpTT4s8"
      },
      "source": [
        "def place_marker(board , marker ,position):    # $,8\n",
        "  board[position] = marker  "
      ],
      "execution_count": 61,
      "outputs": []
    },
    {
      "cell_type": "markdown",
      "metadata": {
        "id": "5WICht1MU0m2"
      },
      "source": [
        "Write a function that take in a board and check see if someone win the game\n",
        "and Write all the probability win the game"
      ]
    },
    {
      "cell_type": "code",
      "metadata": {
        "id": "_m0IxJ1-T4pj"
      },
      "source": [
        "def win_check(board,mark):\n",
        "  return((board[7]== mark and board[8]==mark and board[9]==mark) or   #Top Row\n",
        "         (board[4]== mark and board[5]==mark and board[6]==mark) or   # Mid Row\n",
        "         (board[1]== mark and board[2]==mark and board[3]==mark) or   # BottomRow\n",
        "         (board[1]== mark and board[4]==mark and board[7]==mark) or   # Left down  \n",
        "         (board[2]== mark and board[5]==mark and board[8]==mark) or   # MidDown\n",
        "         (board[3]== mark and board[6]==mark and board[9]==mark) or   # RightDown\n",
        "         (board[7]== mark and board[5]==mark and board[3]==mark) or   # Diagonal      \n",
        "         (board[9]== mark and board[5]==mark and board[1]==mark)) "
      ],
      "execution_count": 62,
      "outputs": []
    },
    {
      "cell_type": "code",
      "metadata": {
        "colab": {
          "base_uri": "https://localhost:8080/"
        },
        "id": "YdJZFZLbT4m8",
        "outputId": "a7e73769-400a-491e-a8af-0d05367393fc"
      },
      "source": [
        "display_board(test_board)"
      ],
      "execution_count": 63,
      "outputs": [
        {
          "output_type": "stream",
          "name": "stdout",
          "text": [
            "   |   |\n",
            " X | O | X\n",
            "   |   |\n",
            "----------\n",
            "   |   |\n",
            " O | X | O\n",
            "   |   |\n",
            "----------\n",
            "   |   |\n",
            " X | O | X\n",
            "   |   |\n"
          ]
        }
      ]
    },
    {
      "cell_type": "markdown",
      "metadata": {
        "id": "mBX081FOVkgB"
      },
      "source": [
        "1. Write a function that random decide which player goes first"
      ]
    },
    {
      "cell_type": "code",
      "metadata": {
        "colab": {
          "base_uri": "https://localhost:8080/",
          "height": 35
        },
        "id": "aqEJvs3nT4j0",
        "outputId": "13f25538-3425-4b85-d697-c186c974e3a8"
      },
      "source": [
        "import random\n",
        "def choose_first():\n",
        "  if random.randint(0,1) == 0:\n",
        "    return 'Player 2'\n",
        "  else:\n",
        "    return 'Player 1'\n",
        " \n",
        "choose_first()"
      ],
      "execution_count": 64,
      "outputs": [
        {
          "output_type": "execute_result",
          "data": {
            "application/vnd.google.colaboratory.intrinsic+json": {
              "type": "string"
            },
            "text/plain": [
              "'Player 1'"
            ]
          },
          "metadata": {},
          "execution_count": 64
        }
      ]
    },
    {
      "cell_type": "markdown",
      "metadata": {
        "id": "jT5Du5INWvNa"
      },
      "source": [
        "2.Write a function boolean return where the space is freely available or not"
      ]
    },
    {
      "cell_type": "code",
      "metadata": {
        "colab": {
          "base_uri": "https://localhost:8080/"
        },
        "id": "B8mLpn1OWuwW",
        "outputId": "5eb6e1b8-c71a-4033-fcce-2586283a0e4a"
      },
      "source": [
        "def space_check(board,position):\n",
        "  return board[position] == ' '\n",
        "\n",
        "space_check(test_board,4)"
      ],
      "execution_count": 65,
      "outputs": [
        {
          "output_type": "execute_result",
          "data": {
            "text/plain": [
              "False"
            ]
          },
          "metadata": {},
          "execution_count": 65
        }
      ]
    },
    {
      "cell_type": "code",
      "metadata": {
        "colab": {
          "base_uri": "https://localhost:8080/"
        },
        "id": "9ujn8JXiU-QL",
        "outputId": "79a4ec52-8477-4297-9465-c3ea81930258"
      },
      "source": [
        "display_board(test_board)"
      ],
      "execution_count": 66,
      "outputs": [
        {
          "output_type": "stream",
          "name": "stdout",
          "text": [
            "   |   |\n",
            " X | O | X\n",
            "   |   |\n",
            "----------\n",
            "   |   |\n",
            " O | X | O\n",
            "   |   |\n",
            "----------\n",
            "   |   |\n",
            " X | O | X\n",
            "   |   |\n"
          ]
        }
      ]
    },
    {
      "cell_type": "markdown",
      "metadata": {
        "id": "HmqVlWivW5zy"
      },
      "source": [
        "3. Write a function when the board is completely full. Return True is full, False otherwise"
      ]
    },
    {
      "cell_type": "code",
      "metadata": {
        "id": "33RSMQgQU-M6"
      },
      "source": [
        "def full_board(board):\n",
        "  for i in range(1,10):          #will generate a sereis of number 1 to 9 \n",
        "     if space_check(board,i):     #space_check(test_board,1) \n",
        "       return False               # Return True when is emtyp and false when is filled\n",
        "  return True"
      ],
      "execution_count": 67,
      "outputs": []
    },
    {
      "cell_type": "code",
      "metadata": {
        "colab": {
          "base_uri": "https://localhost:8080/"
        },
        "id": "23U3OsLfU-Ky",
        "outputId": "11f9175a-2456-48ec-c837-5a036aef9c65"
      },
      "source": [
        "full_board(test_board)"
      ],
      "execution_count": 68,
      "outputs": [
        {
          "output_type": "execute_result",
          "data": {
            "text/plain": [
              "True"
            ]
          },
          "metadata": {},
          "execution_count": 68
        }
      ]
    },
    {
      "cell_type": "code",
      "metadata": {
        "colab": {
          "base_uri": "https://localhost:8080/"
        },
        "id": "pdgnO2GDXDP3",
        "outputId": "f171a355-b479-4818-d4bf-bdf69a7c3c1d"
      },
      "source": [
        "display_board(test_board) "
      ],
      "execution_count": 69,
      "outputs": [
        {
          "output_type": "stream",
          "name": "stdout",
          "text": [
            "   |   |\n",
            " X | O | X\n",
            "   |   |\n",
            "----------\n",
            "   |   |\n",
            " O | X | O\n",
            "   |   |\n",
            "----------\n",
            "   |   |\n",
            " X | O | X\n",
            "   |   |\n"
          ]
        }
      ]
    },
    {
      "cell_type": "code",
      "metadata": {
        "colab": {
          "base_uri": "https://localhost:8080/"
        },
        "id": "vs847pt1XLIi",
        "outputId": "6d70961a-093d-46cd-d37e-4b1ccd72d8d0"
      },
      "source": [
        "test_board[2] = ' '    #remove slot 2 to empty\n",
        "display_board(test_board)"
      ],
      "execution_count": 70,
      "outputs": [
        {
          "output_type": "stream",
          "name": "stdout",
          "text": [
            "   |   |\n",
            " X | O | X\n",
            "   |   |\n",
            "----------\n",
            "   |   |\n",
            " O | X | O\n",
            "   |   |\n",
            "----------\n",
            "   |   |\n",
            " X |   | X\n",
            "   |   |\n"
          ]
        }
      ]
    },
    {
      "cell_type": "markdown",
      "metadata": {
        "id": "uIMlnrwhXZ3g"
      },
      "source": [
        "4. Write a function that ask player next move and uses the function space_check to check the position is free or filled."
      ]
    },
    {
      "cell_type": "code",
      "metadata": {
        "id": "3JwOonQqXLFt"
      },
      "source": [
        "def player_choice(board):\n",
        "  position = 0\n",
        "\n",
        "  while position not in [1,2,3,4,5,6,7,8,9] or not space_check(board,position):\n",
        "    position = int(input('What your Next Move: (1-9)'))\n",
        "\n",
        "  return position"
      ],
      "execution_count": 71,
      "outputs": []
    },
    {
      "cell_type": "code",
      "metadata": {
        "id": "qIeimyuDV29T"
      },
      "source": [
        "def player_choice(board):\n",
        "  position = 0\n",
        "\n",
        "  while position not in [1,2,3,4,5,6,7,8,9] or not space_check(board,position):\n",
        "    position = int(input('What your Next Move: (1-9)'))\n",
        "\n",
        "  return position"
      ],
      "execution_count": 72,
      "outputs": []
    },
    {
      "cell_type": "markdown",
      "metadata": {
        "id": "IU77EZ9BWHJJ"
      },
      "source": [
        "Ask player if want to play again and return boolean True if they want"
      ]
    },
    {
      "cell_type": "code",
      "metadata": {
        "id": "L1FiMfxMV26B"
      },
      "source": [
        "def replay():\n",
        "  return input('DO You Want To Play Again? Enter Yes Or No :').lower()"
      ],
      "execution_count": 73,
      "outputs": []
    },
    {
      "cell_type": "markdown",
      "metadata": {
        "id": "3kdv1W_mYCei"
      },
      "source": [
        "5. Ask player if want to play again and return boolean True if they want"
      ]
    },
    {
      "cell_type": "code",
      "metadata": {
        "id": "pUjaEO7KV23k"
      },
      "source": [
        "def replay():\n",
        "  return input('DO You Want To Play Again? Enter Yes Or No :').lower()"
      ],
      "execution_count": 74,
      "outputs": []
    },
    {
      "cell_type": "markdown",
      "metadata": {
        "id": "_ESeNMwTX8LM"
      },
      "source": [
        "Final Run The Game"
      ]
    },
    {
      "cell_type": "code",
      "metadata": {
        "colab": {
          "base_uri": "https://localhost:8080/"
        },
        "id": "n57Tqx9nV21c",
        "outputId": "afa10842-5f8c-427b-eb76-c4404582f11a"
      },
      "source": [
        "print('Welcome to Tic Tac Toe Game !')\n",
        "\n",
        "while True:\n",
        "  # Reset The Board\n",
        "  theBoard = [' ']*10        #remember there is a space between ''\n",
        "  player1_marker, player2_marker = player_input()\n",
        "  turn = choose_first()\n",
        "  print(turn+'will go First.')\n",
        "\n",
        "  play_game = input('Are You Ready To Play? Enter Yes Or No.')\n",
        "\n",
        "  if play_game.lower()[0] == 'y':\n",
        "    game_on = True\n",
        "  else:\n",
        "    game_on = False\n",
        "  \n",
        "  while game_on:\n",
        "    if turn == 'Player 1':\n",
        "      display_board(theBoard)\n",
        "      position = player_choice(theBoard)\n",
        "      place_marker(theBoard,player1_marker,position)\n",
        "\n",
        "      if win_check(theBoard, player1_marker):\n",
        "        display_board(theBoard)\n",
        "        print('Congratulations! Player 1 The Winner')\n",
        "        game_on = False\n",
        "      else:\n",
        "        if full_board(theBoard):\n",
        "          display_board(theBoard)\n",
        "          print('Players The Game Is A Draw')\n",
        "          break\n",
        "        else:\n",
        "          turn = 'Player 2'\n",
        "\n",
        "    else:\n",
        "      display_board(theBoard)\n",
        "      position=player_choice(theBoard)\n",
        "      place_marker(theBoard,player2_marker,position)\n",
        "\n",
        "      if win_check(theBoard, player2_marker):\n",
        "        display_board(theBoard)\n",
        "        print('Congratulations! Player 2 Won The Game')\n",
        "        game_on = False\n",
        "\n",
        "      else: \n",
        "        if full_board(theBoard):\n",
        "          display_board(theBoard)\n",
        "          print('Players The Game Is A Draw')\n",
        "          break\n",
        "        else:\n",
        "          turn = 'Player 1'\n",
        "\n",
        "  if not replay():\n",
        "    break\n",
        "\n",
        "  if game_on == False:\n",
        "    break \n"
      ],
      "execution_count": 76,
      "outputs": [
        {
          "name": "stdout",
          "output_type": "stream",
          "text": [
            "   |   |\n",
            " X |   |  \n",
            "   |   |\n",
            "----------\n",
            "   |   |\n",
            " O | X | O\n",
            "   |   |\n",
            "----------\n",
            "   |   |\n",
            " X | O | X\n",
            "   |   |\n",
            "Congratulations! Player 1 The Winner\n",
            "DO You Want To Play Again? Enter Yes Or No :yes\n"
          ]
        }
      ]
    }
  ]
}