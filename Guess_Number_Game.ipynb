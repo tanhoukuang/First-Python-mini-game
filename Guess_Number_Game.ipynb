{
  "nbformat": 4,
  "nbformat_minor": 0,
  "metadata": {
    "colab": {
      "name": "Guess Number Game.ipynb",
      "provenance": []
    },
    "kernelspec": {
      "name": "python3",
      "display_name": "Python 3"
    },
    "language_info": {
      "name": "python"
    }
  },
  "cells": [
    {
      "cell_type": "markdown",
      "metadata": {
        "id": "trKIWPOJXUWg"
      },
      "source": [
        "# **Guess Number Game**"
      ]
    },
    {
      "cell_type": "code",
      "metadata": {
        "id": "yVIe3JMPXGiV"
      },
      "source": [
        "import random\n",
        "\n",
        "number = random.randint(1,13)\n",
        "print(number)\n",
        "\n",
        "import random \n",
        "guessAttempt = 0\n",
        "print('Hello! What is your name?')\n",
        "myName = input()\n",
        "number = random.randint(1,13) #12\n",
        "print('Well',myName,'I am thinking of a number between 1 to 13. Please Wait...')\n",
        "\n",
        "while guessAttempt < 4:              # 0<4 (true) as havent start attempt\n",
        "  print('Take a guess :')\n",
        "  guess = input()\n",
        "  guess = int(guess)                  #  guess = 4\n",
        "\n",
        "  guessAttempt = guessAttempt + 1      #guessAttempt = 1\n",
        "   \n",
        "  if guess > number :\n",
        "    print('Your Guess is Too HIGH')\n",
        "\n",
        "  if guess < number:\n",
        "    print('Your Guess is Too LOW')\n",
        "\n",
        "  if guess == number :\n",
        "    break\n",
        "\n",
        "if guess == number:\n",
        "  print('Great Job',myName,'You Guesses The Number in', guessAttempt,'attempt')\n",
        "\n",
        "if guess!=number:\n",
        "  print('Game Over ! The Number I was thinking is : ',number)\n"
      ],
      "execution_count": null,
      "outputs": []
    }
  ]
}